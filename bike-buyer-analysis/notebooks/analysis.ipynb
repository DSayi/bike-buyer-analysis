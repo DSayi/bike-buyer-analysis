{
 "cells": [
  {
   "cell_type": "markdown",
   "id": "55ee2d14",
   "metadata": {},
   "source": [
    "# 🚴‍♀️ Bike Buyer Analysis - EDA\n",
    "\n",
    "This notebook explores a dataset of potential bike buyers. We aim to identify trends and factors influencing the likelihood of a customer purchasing a bicycle using demographic and socioeconomic data.\n"
   ]
  },
  {
   "cell_type": "code",
   "execution_count": null,
   "id": "4f21939f",
   "metadata": {},
   "outputs": [],
   "source": [
    "import pandas as pd\n",
    "import matplotlib.pyplot as plt\n",
    "import seaborn as sns\n",
    "\n",
    "# Set style\n",
    "sns.set()\n",
    "\n",
    "# Load the dataset\n",
    "df = pd.read_excel('data/Excel Project Dataset.xlsx', sheet_name='bike_buyers')\n",
    "df.head()"
   ]
  },
  {
   "cell_type": "code",
   "execution_count": null,
   "id": "4ae55d75",
   "metadata": {},
   "outputs": [],
   "source": [
    "# Check for missing values and data types\n",
    "df.info()\n",
    "df.isnull().sum()"
   ]
  },
  {
   "cell_type": "code",
   "execution_count": null,
   "id": "7e4d929b",
   "metadata": {},
   "outputs": [],
   "source": [
    "plt.figure(figsize=(6,4))\n",
    "sns.countplot(data=df, x='Gender', hue='Purchased Bike')\n",
    "plt.title('Bike Purchase by Gender')\n",
    "plt.xlabel('Gender')\n",
    "plt.ylabel('Count')\n",
    "plt.legend(title='Purchased Bike')\n",
    "plt.tight_layout()\n",
    "plt.show()"
   ]
  },
  {
   "cell_type": "code",
   "execution_count": null,
   "id": "f99cb31f",
   "metadata": {},
   "outputs": [],
   "source": [
    "plt.figure(figsize=(6,4))\n",
    "sns.countplot(data=df, x='Marital Status', hue='Purchased Bike')\n",
    "plt.title('Bike Purchase by Marital Status')\n",
    "plt.xlabel('Marital Status')\n",
    "plt.ylabel('Count')\n",
    "plt.legend(title='Purchased Bike')\n",
    "plt.tight_layout()\n",
    "plt.show()"
   ]
  },
  {
   "cell_type": "code",
   "execution_count": null,
   "id": "0d56dd6d",
   "metadata": {},
   "outputs": [],
   "source": [
    "plt.figure(figsize=(8,5))\n",
    "sns.histplot(data=df, x='Income', hue='Purchased Bike', kde=True, bins=30)\n",
    "plt.title('Income Distribution: Buyers vs Non-Buyers')\n",
    "plt.xlabel('Income')\n",
    "plt.ylabel('Count')\n",
    "plt.tight_layout()\n",
    "plt.show()"
   ]
  },
  {
   "cell_type": "code",
   "execution_count": null,
   "id": "4174b004",
   "metadata": {},
   "outputs": [],
   "source": [
    "plt.figure(figsize=(10,5))\n",
    "sns.countplot(data=df, x='Education', hue='Purchased Bike')\n",
    "plt.title('Bike Purchase by Education Level')\n",
    "plt.xlabel('Education')\n",
    "plt.ylabel('Count')\n",
    "plt.xticks(rotation=45)\n",
    "plt.tight_layout()\n",
    "plt.show()"
   ]
  },
  {
   "cell_type": "code",
   "execution_count": null,
   "id": "f1734e27",
   "metadata": {},
   "outputs": [],
   "source": [
    "plt.figure(figsize=(10,5))\n",
    "sns.countplot(data=df, x='Occupation', hue='Purchased Bike')\n",
    "plt.title('Bike Purchase by Occupation')\n",
    "plt.xlabel('Occupation')\n",
    "plt.ylabel('Count')\n",
    "plt.xticks(rotation=45)\n",
    "plt.tight_layout()\n",
    "plt.show()"
   ]
  },
  {
   "cell_type": "code",
   "execution_count": null,
   "id": "dd50d6eb",
   "metadata": {},
   "outputs": [],
   "source": [
    "plt.figure(figsize=(10,5))\n",
    "sns.countplot(data=df, x='Commute Distance', hue='Purchased Bike',\n",
    "              order=['0-1 Miles', '1-2 Miles', '2-5 Miles', '5-10 Miles', '10+ Miles'])\n",
    "plt.title('Bike Purchase by Commute Distance')\n",
    "plt.xlabel('Commute Distance')\n",
    "plt.ylabel('Count')\n",
    "plt.tight_layout()\n",
    "plt.show()"
   ]
  }
 ],
 "metadata": {},
 "nbformat": 4,
 "nbformat_minor": 5
}
